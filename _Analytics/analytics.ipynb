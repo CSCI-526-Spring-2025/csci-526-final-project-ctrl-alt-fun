{
 "cells": [
  {
   "cell_type": "code",
   "execution_count": 1,
   "id": "8b39506e-60a9-4711-a17c-b513342d9992",
   "metadata": {},
   "outputs": [],
   "source": [
    "import requests\n",
    "import csv\n",
    "import matplotlib.pyplot as plt\n",
    "from collections import Counter\n",
    "\n",
    "mode = 'test'\n",
    "# mode = 'production'\n",
    "\n",
    "test_url = 'https://side-n-top-default-rtdb.firebaseio.com/test/.json'\n",
    "production_url = 'https://side-n-top-default-rtdb.firebaseio.com/events/.json'\n",
    "\n",
    "test_file = 'test.csv'\n",
    "production_file = 'production.csv'\n",
    "\n",
    "url = test_url if mode == 'test' else production_url\n",
    "out_put_file = test_file if mode == 'test' else production_file"
   ]
  },
  {
   "cell_type": "code",
   "execution_count": 2,
   "id": "9f8fdeab-2340-4871-8740-e2dc38e5deb2",
   "metadata": {},
   "outputs": [],
   "source": [
    "response = requests.get(url)\n",
    "if response.status_code == 200:\n",
    "    data = response.json()\n",
    "    # print(data)\n",
    "else:\n",
    "    print(\"Failure Request：\", response.status_code)"
   ]
  },
  {
   "cell_type": "code",
   "execution_count": 3,
   "id": "50f7859e-4179-4ec3-a999-35dd934b9548",
   "metadata": {},
   "outputs": [
    {
     "name": "stdout",
     "output_type": "stream",
     "text": [
      "CSV file saved as test.csv with 55 rows.\n"
     ]
    }
   ],
   "source": [
    "# Extract all events into a csv\n",
    "all_events = []\n",
    "for key, value in data.items():\n",
    "    if isinstance(value, dict) and 'events' in value:\n",
    "        all_events.extend(value['events'])\n",
    "        \n",
    "fieldnames = all_events[0].keys()\n",
    "with open(out_put_file, 'w', newline='', encoding='utf-8') as csvfile:\n",
    "    writer = csv.DictWriter(csvfile, fieldnames=fieldnames)\n",
    "    writer.writeheader()\n",
    "    writer.writerows(all_events)\n",
    "\n",
    "print(f\"CSV file saved as {out_put_file} with {len(all_events)} rows.\")"
   ]
  },
  {
   "cell_type": "code",
   "execution_count": 4,
   "id": "c17107fc-04fe-438b-a954-daf7d7b7ce60",
   "metadata": {},
   "outputs": [
    {
     "name": "stdout",
     "output_type": "stream",
     "text": [
      "There are 3 events in SessionID: 0df28345-faf7-4b29-8e7f-4a49303dcc4d\n",
      "There are 5 events in SessionID: 9d2f24e6-5915-41ca-83f7-cf8270c83e8a\n",
      "There are 4 events in SessionID: 3b57e861-9e58-4d81-9989-e1bf6eee0c32\n",
      "There are 1 events in SessionID: babe9638-4c83-44b5-b40c-8231c1ac147a\n",
      "There are 3 events in SessionID: 0ec8054c-342f-42d6-9ed6-25d198265e06\n",
      "There are 4 events in SessionID: 0137a657-8857-4b92-81fa-aab685e8ef40\n",
      "There are 5 events in SessionID: 1637d041-02c2-4eeb-ae1c-5fb49dcc6ef8\n",
      "There are 5 events in SessionID: 07f4af3d-8e47-431c-9fb4-0e750f88de75\n",
      "There are 3 events in SessionID: d9137ca6-e55d-4363-a326-03f6d5880613\n",
      "There are 5 events in SessionID: 91c5dac6-7a0f-45ee-b925-52ec45418815\n",
      "There are 5 events in SessionID: 04a965bf-a77d-46a5-b14e-8d78cd9dae81\n",
      "There are 5 events in SessionID: e31e9ba6-852a-4621-a73c-998f8fb6927a\n",
      "There are 4 events in SessionID: 8bf8bed9-826b-44bc-99f4-3c2052ee0684\n",
      "There are 3 events in SessionID: d11db29b-712f-493f-baef-d5654c5c5b28\n"
     ]
    }
   ],
   "source": [
    "# Group events by their SessionID\n",
    "grouped_events = {}\n",
    "\n",
    "for event in all_events:\n",
    "    session_id = event.get('sessionId')\n",
    "    if session_id not in grouped_events:\n",
    "        grouped_events[session_id] = []\n",
    "    grouped_events[session_id].append(event)\n",
    "\n",
    "for session_id, events in grouped_events.items():\n",
    "    print(f\"There are {len(events)} events in SessionID: {session_id}\")"
   ]
  },
  {
   "cell_type": "code",
   "execution_count": 5,
   "id": "1b65ec74-890c-4370-8180-939bd904504f",
   "metadata": {},
   "outputs": [
    {
     "name": "stdout",
     "output_type": "stream",
     "text": [
      "[0.013245033112582781, 0.30155196539880424, 0.7638969143649601, 0.5772997551591466, 0.18853759529429975, 0.351961950059453, 0.35808851342831927, 0.8227921048840224, 0.694562087074369, 0.6820243833286079, 0.40763546798029554, 0.7354806684683691, 0.6926749420270086]\n",
      "[14.949, 15.722, 34.612, 11.436, 25.841, 2.523, 15.862, 6.941, 5.903, 21.162, 4.06, 18.131, 7.331]\n",
      "[0.6422459604056707, 0.3036912751677852, 0.351961950059453]\n"
     ]
    }
   ],
   "source": [
    "topdown_ratio_list = []\n",
    "session_time_list = []\n",
    "\n",
    "level_dict = {'Level0' : 0, 'Level1' : 1, 'Level2' : 2}\n",
    "total_topdown_time_by_level = [0, 0, 0]\n",
    "total_time_by_level = [0, 0, 0]\n",
    "average_topdown_time_by_level = [0, 0, 0]\n",
    "\n",
    "for session_id, events in grouped_events.items():\n",
    "    if len(events) < 2:\n",
    "        continue\n",
    "\n",
    "    # Sort events by timestamp\n",
    "    events = sorted(events, key=lambda x: x.get('timestamp', 0))\n",
    "    level_id = events[0].get('levelId')\n",
    "    level_idx = level_dict[level_id]\n",
    "    \n",
    "    is_topdown = False\n",
    "    topdown_time = 0\n",
    "    platformer_time = 0\n",
    "    for i in range(1, len(events)):\n",
    "        event = events[i]\n",
    "        prev_event = events[i - 1]\n",
    "        \n",
    "        # Skip start event\n",
    "        if event.get('eventType') == 'Start':\n",
    "            continue\n",
    "\n",
    "        # Sum topdown_time or platformer_time\n",
    "        time_interval = event.get('timestamp', 0) - prev_event.get('timestamp', 0)\n",
    "        if event.get('eventType') in ['Lose', 'Win', 'Shift']:\n",
    "            if is_topdown:\n",
    "                topdown_time += time_interval\n",
    "            else:\n",
    "                platformer_time += time_interval\n",
    "\n",
    "            # Shift on shift event\n",
    "            if event.get('eventType') == 'Shift':\n",
    "                is_topdown = not is_topdown\n",
    "\n",
    "    session_time = topdown_time + platformer_time\n",
    "    session_time_list.append(session_time/1000)\n",
    "\n",
    "    ratio = topdown_time / session_time if session_time != 0 else 1\n",
    "    topdown_ratio_list.append(ratio)\n",
    "\n",
    "    total_topdown_time_by_level[level_idx] += topdown_time\n",
    "    total_time_by_level[level_idx] += topdown_time + platformer_time\n",
    "\n",
    "print(topdown_ratio_list)\n",
    "print(session_time_list)\n",
    "\n",
    "for i in range(len(total_time_by_level)):\n",
    "    average_topdown_time_by_level[i] = total_topdown_time_by_level[i] / total_time_by_level[i] if total_time_by_level[i] != 0 else 1\n",
    "print(average_topdown_time_by_level)"
   ]
  },
  {
   "cell_type": "code",
   "execution_count": 6,
   "id": "8ffd2cee-ca8d-48c0-b04f-eddf77bc0b75",
   "metadata": {},
   "outputs": [
    {
     "data": {
      "image/png": "[encoded data removed]",
      "text/plain": [
       "<Figure size 800x600 with 1 Axes>"
      ]
     },
     "metadata": {},
     "output_type": "display_data"
    }
   ],
   "source": [
    "levels = list(level_dict.keys())  # e.g., ['Level0', 'Level1', 'Level2']\n",
    "\n",
    "plt.figure(figsize=(8, 6))\n",
    "plt.bar(levels, average_topdown_time_by_level, edgecolor='black')\n",
    "plt.xlabel('Level')\n",
    "plt.ylabel('Average Topdown Time Ratio')\n",
    "plt.title('Average Topdown Time Ratio by Level')\n",
    "plt.show()"
   ]
  },
  {
   "cell_type": "code",
   "execution_count": null,
   "id": "f6a1bf58-229d-4242-abaf-b66518fece19",
   "metadata": {},
   "outputs": [],
   "source": []
  }
 ],
 "metadata": {
  "kernelspec": {
   "display_name": "Python 3 (ipykernel)",
   "language": "python",
   "name": "python3"
  },
  "language_info": {
   "codemirror_mode": {
    "name": "ipython",
    "version": 3
   },
   "file_extension": ".py",
   "mimetype": "text/x-python",
   "name": "python",
   "nbconvert_exporter": "python",
   "pygments_lexer": "ipython3",
   "version": "3.12.4"
  }
 },
 "nbformat": 4,
 "nbformat_minor": 5
}
